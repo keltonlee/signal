{
  "nbformat": 4,
  "nbformat_minor": 0,
  "metadata": {
    "colab": {
      "name": "B0829054_李彥廷_機率與統計.ipynb",
      "provenance": [],
      "collapsed_sections": [],
      "include_colab_link": true
    },
    "kernelspec": {
      "display_name": "Python 3",
      "language": "python",
      "name": "python3"
    },
    "language_info": {
      "codemirror_mode": {
        "name": "ipython",
        "version": 3
      },
      "file_extension": ".py",
      "mimetype": "text/x-python",
      "name": "python",
      "nbconvert_exporter": "python",
      "pygments_lexer": "ipython3",
      "version": "3.8.5"
    }
  },
  "cells": [
    {
      "cell_type": "markdown",
      "metadata": {
        "id": "view-in-github",
        "colab_type": "text"
      },
      "source": [
        "<a href=\"https://colab.research.google.com/github/keltonlee/signal/blob/master/B0829054_%E6%9D%8E%E5%BD%A5%E5%BB%B7_%E6%A9%9F%E7%8E%87%E8%88%87%E7%B5%B1%E8%A8%88.ipynb\" target=\"_parent\"><img src=\"https://colab.research.google.com/assets/colab-badge.svg\" alt=\"Open In Colab\"/></a>"
      ]
    },
    {
      "cell_type": "markdown",
      "metadata": {
        "id": "1l8i6ab_FTEj"
      },
      "source": [
        "# 期末考題 2021\n",
        "## 長庚大學 資工系 @ 2021/06/22\n",
        "- by 呂仁園老師\n",
        "\n",
        "----\n",
        "# 1. \n",
        "考試時間 2021/06/22， 10:10~ 12:30，\n",
        "\n",
        "# 2. \n",
        "嚴禁同學間互相抄襲，若有抄襲情形，【抄襲者】與【被抄襲者】皆為0分。請不要害別人，也保護自己不被別人害！\n",
        "\n",
        "# 3. \n",
        "答案 以 【pdf】 檔案 上傳 【Elearning】 之 \n",
        "【評量區】//【作業/報告】//【正式期末考專區】\n",
        "\n",
        "# 4. \n",
        "pdf 應含所撰寫之程式(.ipynb) 之 Colab 或 Github 連結，可讓老師或助教直接點擊該連結即可觀看程式。\n",
        "\n",
        "\n",
        "# 5. \n",
        "答題須寫推論或計算過程，若有Python程式碼，應完全列出指令。\n",
        "\n",
        "# 6.\n",
        "題目共 20 小題，每題 5%"
      ]
    },
    {
      "cell_type": "markdown",
      "metadata": {
        "id": "NHD5j7tnM5CD"
      },
      "source": [
        "#[Q1]\n",
        "\n",
        "$n$ 個獨立且分布相同的隨機變數 \n",
        "$\n",
        "X_1,\\ X_2, …. X_n\n",
        "$\n",
        "它們有共同的\n",
        "\n",
        "期望值: $E(X_i)=μ$, \n",
        "\n",
        "標準差: $Std(X_i)=σ$, \n",
        "\n",
        "----\n",
        "$\\bar{X}$ , $S^2$ \n",
        "\n",
        "分別代表它們的【樣本平均數】以及【樣本變異數】。數學公式定義如下：\n",
        "\n",
        "$\n",
        "\\bar{X}=\\frac{1}{n}\\sum_{i=1}^{n}X_i\n",
        "\\\\\n",
        "S^2=\\frac{1}{n-1}\\sum_{i=1}^{n}\\left(X_i-\\bar{X}\\right)^2\n",
        "$\n",
        "\n",
        "----\n",
        "令 統計量 $T$ 代表 樣本平均$\\bar{X}$ 與母體平均$μ$ 之間的【正規距離】(scaled distance)，數學公式定義如下：\n",
        "\n",
        "$\n",
        "T=\\frac{\\ \\bar{X}-\\mu}{S/\\sqrt{n}}\n",
        "$\n",
        "\n",
        "----\n",
        "\n",
        "\n",
        "令 n = 10,  μ= 5,  σ=2，\n",
        "請回答以下問題\n",
        "\n",
        "1. \n",
        "$\n",
        "\tE\\left(\\bar{X}\\right)=\\ ?\n",
        "$\n",
        "\n",
        "1. \n",
        "$\n",
        "\tE\\left(S^2\\right)=\\ ?\n",
        "$\n",
        "\n",
        "1. \n",
        "$\n",
        "\tE\\left(T\\right)=\\ ?\n",
        "$\n",
        "\n",
        "1. \n",
        "$\n",
        "\tVar\\left(\\bar{X}\\right)=\\ ?\n",
        "$\n",
        "\n",
        "1. \n",
        "$\n",
        "\tVar\\left(S^2\\right)=\\ ?\n",
        "$\n",
        "\n",
        "1. \n",
        "$\n",
        "\tVar\\left(T\\right)=\\ ?\n",
        "$\n",
        "\n",
        "1. \n",
        "$\n",
        "\t\\bar{X} 的 機率密度函數  f_{\\bar{X}}\\left(x\\right)=?\n",
        "$\n",
        "\n",
        "1. \n",
        "$\n",
        "\tS^2 的機率密度函數 f_{S^2}\\left(q\\right)=?\n",
        "$\n",
        "\n",
        "1. \n",
        "$\n",
        "\tT 的 機率密度函數  f_T\\left(t\\right)=?\n",
        "$\n",
        "\n",
        "1. \n",
        "$\n",
        "\tP\\left(4\\le\\bar{X}\\le6\\right)=?\n",
        "$\n",
        "\n",
        "1. \n",
        "$\n",
        "\tP\\left(3\\le S^2\\le5\\right)=?\n",
        "$\n",
        "\n",
        "1. \n",
        "$\n",
        "\tP\\left(-1\\le T\\le1\\right)=?\n",
        "$\n",
        "\n",
        "1. \n",
        "$\n",
        "\t若 P\\left( x_1\\le\\bar{X}\\le x_2\\right)=95\\%，那麼(x_1, x_2)=?\n",
        "$\n",
        "\n",
        "1. \n",
        "$\n",
        "\t若 P\\left(q_1\\le S^2\\le\\ q_2\\right)=95\\%，那麼 (q_1, q_2) = ?\n",
        "$\n",
        "\n",
        "1. \n",
        "$\n",
        "\t若 P\\left(t_1\\le T\\le t_2\\right)= 95\\%，那麼 (t_1, t_2)=?\n",
        "$\n",
        "\n",
        "\n"
      ]
    },
    {
      "cell_type": "markdown",
      "metadata": {
        "id": "ret3QoyQM4FM"
      },
      "source": [
        "首先，引入必要的模組"
      ]
    },
    {
      "cell_type": "code",
      "metadata": {
        "id": "xMK4shCLFqHb"
      },
      "source": [
        "import numpy      as np\n",
        "import scipy.special  as sp\n",
        "import scipy.stats   as st\n",
        "import pandas      as pd\n",
        "\n",
        "\n",
        "n= 10 \n",
        "μ= 5\n",
        "σ= 2\n",
        "  "
      ],
      "execution_count": null,
      "outputs": []
    },
    {
      "cell_type": "markdown",
      "metadata": {
        "id": "0IBnpscPHcPR"
      },
      "source": [
        "1. \n",
        "$\n",
        "\tE\\left(\\bar{X}\\right)=\\ ?\n",
        "$\n"
      ]
    },
    {
      "cell_type": "code",
      "metadata": {
        "id": "xqJSMaHkIFad",
        "outputId": "98d9adc1-07c9-4dc8-f0f5-914a4649a6d1"
      },
      "source": [
        "#1\n",
        "print(μ)"
      ],
      "execution_count": null,
      "outputs": [
        {
          "output_type": "stream",
          "text": [
            "5\n"
          ],
          "name": "stdout"
        }
      ]
    },
    {
      "cell_type": "markdown",
      "metadata": {
        "id": "sOdBob9eHfwJ"
      },
      "source": [
        "\n",
        "2. \n",
        "$\n",
        "\tE\\left(S^2\\right)=\\ ?\n",
        "$\n"
      ]
    },
    {
      "cell_type": "code",
      "metadata": {
        "id": "SKLdfF4VIPLJ",
        "outputId": "cb567b2b-bec3-48c9-8807-e940b39b321e"
      },
      "source": [
        "#2\n",
        "print(σ**2)"
      ],
      "execution_count": null,
      "outputs": [
        {
          "output_type": "stream",
          "text": [
            "4\n"
          ],
          "name": "stdout"
        }
      ]
    },
    {
      "cell_type": "markdown",
      "metadata": {
        "id": "jEMhYdIJHiXS"
      },
      "source": [
        "\n",
        "3. \n",
        "$\n",
        "\tE\\left(T\\right)=\\ ?\n",
        "$\n"
      ]
    },
    {
      "cell_type": "code",
      "metadata": {
        "id": "AdOA_04RIQpy",
        "outputId": "92904661-4104-4c28-c376-c6f810c139b6"
      },
      "source": [
        "#3\n",
        "print(0)"
      ],
      "execution_count": null,
      "outputs": [
        {
          "output_type": "stream",
          "text": [
            "0\n"
          ],
          "name": "stdout"
        }
      ]
    },
    {
      "cell_type": "markdown",
      "metadata": {
        "id": "4Zd3Bn2tHnJR"
      },
      "source": [
        "\n",
        "4. \n",
        "$\n",
        "\tVar\\left(\\bar{X}\\right)=\\ ?\n",
        "$\n"
      ]
    },
    {
      "cell_type": "code",
      "metadata": {
        "id": "0Lz06ItVIRj6",
        "outputId": "227eb6fe-46e0-4c1c-fb80-c7d4636c1711"
      },
      "source": [
        "#4\n",
        "print((σ**2)/n)"
      ],
      "execution_count": null,
      "outputs": [
        {
          "output_type": "stream",
          "text": [
            "0.4\n"
          ],
          "name": "stdout"
        }
      ]
    },
    {
      "cell_type": "markdown",
      "metadata": {
        "id": "dqB7nq1vHoih"
      },
      "source": [
        "\n",
        "5. \n",
        "$\n",
        "\tVar\\left(S^2\\right)=\\ ?\n",
        "$\n"
      ]
    },
    {
      "cell_type": "code",
      "metadata": {
        "id": "mA2XFMcqISsk",
        "outputId": "9c2a28e8-7900-435d-fe66-4915cb6451f8"
      },
      "source": [
        "#(5)\n",
        "print(2*(σ**4)/(n-1))"
      ],
      "execution_count": null,
      "outputs": [
        {
          "output_type": "stream",
          "text": [
            "3.5555555555555554\n"
          ],
          "name": "stdout"
        }
      ]
    },
    {
      "cell_type": "markdown",
      "metadata": {
        "id": "8WgBr2DMHpwS"
      },
      "source": [
        "\n",
        "6. \n",
        "$\n",
        "\tVar\\left(T\\right)=\\ ?\n",
        "$\n"
      ]
    },
    {
      "cell_type": "code",
      "metadata": {
        "id": "FldyobqHIThq",
        "outputId": "088a20da-f8ec-43a4-e9ce-acb1481c4d2b"
      },
      "source": [
        "#(6)\n",
        "print((n-1)/(n-3))"
      ],
      "execution_count": null,
      "outputs": [
        {
          "output_type": "stream",
          "text": [
            "1.2857142857142858\n"
          ],
          "name": "stdout"
        }
      ]
    },
    {
      "cell_type": "markdown",
      "metadata": {
        "id": "DurEWYdyHq_p"
      },
      "source": [
        "\n",
        "7. \n",
        "$\n",
        "\t\\bar{X} 的 機率密度函數  f_{\\bar{X}}\\left(x\\right)=?\n",
        "$\n"
      ]
    },
    {
      "cell_type": "code",
      "metadata": {
        "id": "n_7Bj5SVIUlU"
      },
      "source": [
        "#(7)"
      ],
      "execution_count": null,
      "outputs": []
    },
    {
      "cell_type": "markdown",
      "metadata": {
        "id": "3XkF4NuyDj2-"
      },
      "source": [
        "![7.jpg](attachment:7.jpg)"
      ]
    },
    {
      "cell_type": "markdown",
      "metadata": {
        "id": "KOM9Sq3EHsOx"
      },
      "source": [
        "\n",
        "8. \n",
        "$\n",
        "\tS^2 的機率密度函數 f_{S^2}\\left(q\\right)=?\n",
        "$\n"
      ]
    },
    {
      "cell_type": "code",
      "metadata": {
        "id": "O-0Am5PyIVmd"
      },
      "source": [
        "#(8)"
      ],
      "execution_count": null,
      "outputs": []
    },
    {
      "cell_type": "markdown",
      "metadata": {
        "id": "6TEY4vi4Dj2_"
      },
      "source": [
        "![9.jpg](attachment:9.jpg)"
      ]
    },
    {
      "cell_type": "markdown",
      "metadata": {
        "id": "GT3Ya54PHteJ"
      },
      "source": [
        "\n",
        "9. \n",
        "$\n",
        "\tT 的 機率密度函數  f_T\\left(t\\right)=?\n",
        "$\n"
      ]
    },
    {
      "cell_type": "code",
      "metadata": {
        "id": "9fkx-8cIIE10"
      },
      "source": [
        "#(9)"
      ],
      "execution_count": null,
      "outputs": []
    },
    {
      "cell_type": "markdown",
      "metadata": {
        "id": "_2ELfFf8Dj3B"
      },
      "source": [
        "![8.jpg](attachment:8.jpg)"
      ]
    },
    {
      "cell_type": "markdown",
      "metadata": {
        "id": "HW8EfHSRHurd"
      },
      "source": [
        "\n",
        "10. \n",
        "$\n",
        "\tP\\left(4\\le\\bar{X}\\le6\\right)=?\n",
        "$\n"
      ]
    },
    {
      "cell_type": "code",
      "metadata": {
        "id": "f--b36SNIXmp",
        "outputId": "61cf0fc1-1763-44f4-bcb6-ef1d38be2965"
      },
      "source": [
        "#(10)\n",
        "prob1=st.norm.cdf(x = (6-μ)/(σ/n**.5))\n",
        "prob2=st.norm.cdf(x = (4-μ)/(σ/n**.5))\n",
        "prob1-prob2"
      ],
      "execution_count": null,
      "outputs": [
        {
          "output_type": "execute_result",
          "data": {
            "text/plain": [
              "0.8861537019933419"
            ]
          },
          "metadata": {
            "tags": []
          },
          "execution_count": 74
        }
      ]
    },
    {
      "cell_type": "markdown",
      "metadata": {
        "id": "5CNXCGRiHvxN"
      },
      "source": [
        "\n",
        "11. \n",
        "$\n",
        "\tP\\left(3\\le S^2\\le5\\right)=?\n",
        "$\n"
      ]
    },
    {
      "cell_type": "code",
      "metadata": {
        "id": "JrqTTcALIY0a",
        "outputId": "819cc62a-927f-4434-ed7a-5d172bc1e152"
      },
      "source": [
        "#(11)\n",
        "st.chi2.cdf(5,df=n-1)-st.chi2.cdf(3,df=n-1)"
      ],
      "execution_count": null,
      "outputs": [
        {
          "output_type": "execute_result",
          "data": {
            "text/plain": [
              "0.12998671249168164"
            ]
          },
          "metadata": {
            "tags": []
          },
          "execution_count": 75
        }
      ]
    },
    {
      "cell_type": "markdown",
      "metadata": {
        "id": "1dRf2CDMHw90"
      },
      "source": [
        "\n",
        "12. \n",
        "$\n",
        "\tP\\left(-1\\le T\\le1\\right)=?\n",
        "$\n"
      ]
    },
    {
      "cell_type": "code",
      "metadata": {
        "id": "PFxQFU9PIZop",
        "outputId": "e7c492ad-6b40-4f95-e5c6-81f925981482"
      },
      "source": [
        "#(12)\n",
        "v=n-1\n",
        "prob=st.t.cdf(1,df=v)-st.t.cdf(-1,df=v)\n",
        "prob"
      ],
      "execution_count": null,
      "outputs": [
        {
          "output_type": "execute_result",
          "data": {
            "text/plain": [
              "0.6565636038620863"
            ]
          },
          "metadata": {
            "tags": []
          },
          "execution_count": 76
        }
      ]
    },
    {
      "cell_type": "markdown",
      "metadata": {
        "id": "GON6jLUMHyDy"
      },
      "source": [
        "\n",
        "13. \n",
        "$\n",
        "\t若 P\\left( x_1\\le\\bar{X}\\le x_2\\right)=95\\%，那麼(x_1, x_2)=?\n",
        "$\n"
      ]
    },
    {
      "cell_type": "code",
      "metadata": {
        "id": "LxIBvURrIaiy",
        "outputId": "3a767d79-6d49-4ab6-9c0e-33cc7e528933"
      },
      "source": [
        "#(13)\n",
        "st.norm.interval(0.95,μ,σ/n**.5)"
      ],
      "execution_count": null,
      "outputs": [
        {
          "output_type": "execute_result",
          "data": {
            "text/plain": [
              "(3.760409935390877, 6.239590064609123)"
            ]
          },
          "metadata": {
            "tags": []
          },
          "execution_count": 77
        }
      ]
    },
    {
      "cell_type": "markdown",
      "metadata": {
        "id": "DxgiUNzHDj3G"
      },
      "source": [
        ""
      ]
    },
    {
      "cell_type": "code",
      "metadata": {
        "id": "EFlvxALjNEaA",
        "outputId": "7a7ad07a-1fa4-468e-e94a-ec1bb95ac68c"
      },
      "source": [
        "#(14)\n",
        "q1=((n-1)*(σ**2)/19.02)\n",
        "q2=((n-1)*(σ**2)/2.70)\n",
        "print(q1,q2)"
      ],
      "execution_count": null,
      "outputs": [
        {
          "output_type": "stream",
          "text": [
            "1.8927444794952681 13.333333333333332\n"
          ],
          "name": "stdout"
        }
      ]
    },
    {
      "cell_type": "markdown",
      "metadata": {
        "id": "F8AtCF7nH0eC"
      },
      "source": [
        "\n",
        "15. \n",
        "$\n",
        "\t若 P\\left(t_1\\le T\\le t_2\\right)= 95\\%，那麼 (t_1, t_2)=?\n",
        "$"
      ]
    },
    {
      "cell_type": "code",
      "metadata": {
        "id": "33NBIpemHTJP",
        "outputId": "9ac7748a-fa1a-42fc-89ea-0254ddd2db5e"
      },
      "source": [
        "#(15) \n",
        "z1,z2=st.t.interval(0.95,df = v)\n",
        "z1,z2"
      ],
      "execution_count": null,
      "outputs": [
        {
          "output_type": "execute_result",
          "data": {
            "text/plain": [
              "(-2.2621571627409915, 2.2621571627409915)"
            ]
          },
          "metadata": {
            "tags": []
          },
          "execution_count": 79
        }
      ]
    },
    {
      "cell_type": "markdown",
      "metadata": {
        "id": "vKD93gF61SFS"
      },
      "source": [
        "#[Q2]\n",
        "\n",
        "某大學於某年做了學生身高資料普查，學生總數N為 10000人，全體學生身高平均數μ= 159.8cm，標準差σ = 9.9 cm，資料分布約略如下圖：(橫坐標為身高cm、縱坐標為學生人數)\n"
      ]
    },
    {
      "cell_type": "code",
      "metadata": {
        "colab": {
          "base_uri": "https://localhost:8080/",
          "height": 424
        },
        "id": "xWPelhY8FqpS",
        "outputId": "29831002-8c34-4e5b-ab64-fecd92e1997d"
      },
      "source": [
        "# 針對某大學全體學生做了一次身高普查，學生總數 N= 10000\n",
        "# 普查資料 存放在 X \n",
        "\n",
        "# 先以模擬方式製造一堆 (size= 10000) 符合此種分布的實驗數據\n",
        "\n",
        "np.random.seed(0)\n",
        "X= st.norm.rvs(size=10000, loc= 160, scale=10)\n",
        "\n",
        "# 畫出 分布圖，\n",
        "# 並觀察母體平均數 mu= E(X)=μ== 159.8, \n",
        "# 以及 標準差 sigma= Std(X)=σ== 9.9\n",
        "\n",
        "X= pd.Series(X)\n",
        "X.hist(bins= 100, grid=True)\n",
        "X.describe().round(1)\n"
      ],
      "execution_count": null,
      "outputs": [
        {
          "output_type": "execute_result",
          "data": {
            "text/plain": [
              "count    10000.0\n",
              "mean       159.8\n",
              "std          9.9\n",
              "min        122.6\n",
              "25%        153.1\n",
              "50%        159.7\n",
              "75%        166.5\n",
              "max        198.0\n",
              "dtype: float64"
            ]
          },
          "metadata": {
            "tags": []
          },
          "execution_count": 80
        },
        {
          "output_type": "display_data",
          "data": {
            "image/png": "[encoded data removed]",
            "text/plain": [
              "<Figure size 432x288 with 1 Axes>"
            ]
          },
          "metadata": {
            "tags": [],
            "needs_background": "light"
          }
        }
      ]
    },
    {
      "cell_type": "markdown",
      "metadata": {
        "id": "ZsMVmx6H12Ss"
      },
      "source": [
        "某同學自己在好朋友之間 (10人) 做了一個調查，得到結果如下：\n",
        "\n"
      ]
    },
    {
      "cell_type": "code",
      "metadata": {
        "colab": {
          "base_uri": "https://localhost:8080/",
          "height": 78
        },
        "id": "9zfLpBwhFqwy",
        "outputId": "7d04d1b9-b7b8-49f8-9344-f4e43e1ce070"
      },
      "source": [
        "# 某位本課程的學生作了一個小實驗，\n",
        "# 他隨機調查了 n=10 位同學 的身高資料\n",
        "np.random.seed(0)\n",
        "smpSize= 10\n",
        "smpX= X.sample(n= smpSize)\n",
        "smpX.round(1)\n",
        "aDF= pd.DataFrame(smpX,columns=['身高(cm)'])\n",
        "aDF.index.name='學號'\n",
        "aDF.T.round(1)\n"
      ],
      "execution_count": null,
      "outputs": [
        {
          "output_type": "execute_result",
          "data": {
            "text/html": [
              "<div>\n",
              "<style scoped>\n",
              "    .dataframe tbody tr th:only-of-type {\n",
              "        vertical-align: middle;\n",
              "    }\n",
              "\n",
              "    .dataframe tbody tr th {\n",
              "        vertical-align: top;\n",
              "    }\n",
              "\n",
              "    .dataframe thead th {\n",
              "        text-align: right;\n",
              "    }\n",
              "</style>\n",
              "<table border=\"1\" class=\"dataframe\">\n",
              "  <thead>\n",
              "    <tr style=\"text-align: right;\">\n",
              "      <th>學號</th>\n",
              "      <th>9394</th>\n",
              "      <th>898</th>\n",
              "      <th>2398</th>\n",
              "      <th>5906</th>\n",
              "      <th>2343</th>\n",
              "      <th>8225</th>\n",
              "      <th>5506</th>\n",
              "      <th>6451</th>\n",
              "      <th>2670</th>\n",
              "      <th>3497</th>\n",
              "    </tr>\n",
              "  </thead>\n",
              "  <tbody>\n",
              "    <tr>\n",
              "      <th>身高(cm)</th>\n",
              "      <td>147.6</td>\n",
              "      <td>185.9</td>\n",
              "      <td>154.0</td>\n",
              "      <td>147.2</td>\n",
              "      <td>168.6</td>\n",
              "      <td>146.8</td>\n",
              "      <td>162.6</td>\n",
              "      <td>164.1</td>\n",
              "      <td>152.2</td>\n",
              "      <td>171.8</td>\n",
              "    </tr>\n",
              "  </tbody>\n",
              "</table>\n",
              "</div>"
            ],
            "text/plain": [
              "學號       9394   898    2398   5906   2343   8225   5506   6451   2670   3497\n",
              "身高(cm)  147.6  185.9  154.0  147.2  168.6  146.8  162.6  164.1  152.2  171.8"
            ]
          },
          "metadata": {
            "tags": []
          },
          "execution_count": 81
        }
      ]
    },
    {
      "cell_type": "markdown",
      "metadata": {
        "id": "hBk7XHvx2Y14"
      },
      "source": [
        "根據以上調查結果(10人之身高)，此位同學自行運用機率統計課程所學，搭配 Python 之統計計算模組，可以估計出以下結論\n",
        "\n",
        "16. 學校全體同學之平均身高μ之估測值 $\\bar{X}$ =?\n",
        "17. 學校全體同學之身高之標準差$σ$之估測值 $S$ =?\n",
        "18. μ 的 95% 信心區間 $(μ_1, μ_2)$ = ？\n"
      ]
    },
    {
      "cell_type": "code",
      "metadata": {
        "id": "XN6DdGTm2Dj8",
        "outputId": "90db16b2-9ca8-4fcb-8614-4b8ee2920a3d"
      },
      "source": [
        "#(16)\n",
        "X= np.array([147.6,    185.9,    154.0,    147.2,    168.6,    146.8,    162.6,    164.1,    152.2,    171.8])\n",
        "xBar= X.mean()\n",
        "xBar"
      ],
      "execution_count": null,
      "outputs": [
        {
          "output_type": "execute_result",
          "data": {
            "text/plain": [
              "160.07999999999998"
            ]
          },
          "metadata": {
            "tags": []
          },
          "execution_count": 82
        }
      ]
    },
    {
      "cell_type": "code",
      "metadata": {
        "id": "9FgNVEWm5Kzj",
        "outputId": "8aa592d2-3126-4f11-8cd9-57f36f34c8a8"
      },
      "source": [
        "#(17)\n",
        "s2 = X.var(ddof=1)\n",
        "s = s2**.5\n",
        "s"
      ],
      "execution_count": null,
      "outputs": [
        {
          "output_type": "execute_result",
          "data": {
            "text/plain": [
              "12.893564286108015"
            ]
          },
          "metadata": {
            "tags": []
          },
          "execution_count": 83
        }
      ]
    },
    {
      "cell_type": "code",
      "metadata": {
        "id": "EfFLh7WG5K4L",
        "outputId": "11ef3f60-066b-47a3-d981-942c6e13f395"
      },
      "source": [
        "#(18)\n",
        "n = X.size\n",
        "μ2=xBar+1.96*(s/(n**.5))\n",
        "μ1=xBar-1.96*(s/(n**.5))\n",
        "(μ1,μ2)"
      ],
      "execution_count": null,
      "outputs": [
        {
          "output_type": "execute_result",
          "data": {
            "text/plain": [
              "(152.08848606082677, 168.0715139391732)"
            ]
          },
          "metadata": {
            "tags": []
          },
          "execution_count": 84
        }
      ]
    },
    {
      "cell_type": "markdown",
      "metadata": {
        "id": "L3k5nEyj26su"
      },
      "source": [
        "後來，此位同學獲得更多的資料，達到20人之身高資料，新增之資料如下：\n"
      ]
    },
    {
      "cell_type": "code",
      "metadata": {
        "colab": {
          "base_uri": "https://localhost:8080/",
          "height": 78
        },
        "id": "X0sua8kw2Dn1",
        "outputId": "ff942031-3fd1-4a2b-a24e-e1272d6d2838"
      },
      "source": [
        "# 這位同學 在另一日額外取得 另 10 位 同學的身高資料\n",
        "# 他把這批資料併入原始資料，成為一份20人的資料，\n",
        "# 重新計算所有統計量並獲得信心區間的重新估測。\n",
        "#\n",
        "smpSize= 20\n",
        "np.random.seed(0) #000\n",
        "smpX= X.sample(n= smpSize)\n",
        "smpX.round(1)\n",
        "aDF= pd.DataFrame(smpX,columns=['身高(cm)'])\n",
        "aDF.index.name='學號'\n",
        "\n",
        "#aDF.round(1)\n",
        "#aDF.T.round(1)\n",
        "\n",
        "# 以下分2列來顯示以利觀看\n",
        "aDF.iloc[:10].T.round(1)"
      ],
      "execution_count": null,
      "outputs": [
        {
          "output_type": "error",
          "ename": "AttributeError",
          "evalue": "'numpy.ndarray' object has no attribute 'sample'",
          "traceback": [
            "\u001b[0;31m---------------------------------------------------------------------------\u001b[0m",
            "\u001b[0;31mAttributeError\u001b[0m                            Traceback (most recent call last)",
            "\u001b[0;32m<ipython-input-85-18e45909ec18>\u001b[0m in \u001b[0;36m<module>\u001b[0;34m\u001b[0m\n\u001b[1;32m      5\u001b[0m \u001b[0msmpSize\u001b[0m\u001b[0;34m=\u001b[0m \u001b[0;36m20\u001b[0m\u001b[0;34m\u001b[0m\u001b[0;34m\u001b[0m\u001b[0m\n\u001b[1;32m      6\u001b[0m \u001b[0mnp\u001b[0m\u001b[0;34m.\u001b[0m\u001b[0mrandom\u001b[0m\u001b[0;34m.\u001b[0m\u001b[0mseed\u001b[0m\u001b[0;34m(\u001b[0m\u001b[0;36m0\u001b[0m\u001b[0;34m)\u001b[0m \u001b[0;31m#000\u001b[0m\u001b[0;34m\u001b[0m\u001b[0;34m\u001b[0m\u001b[0m\n\u001b[0;32m----> 7\u001b[0;31m \u001b[0msmpX\u001b[0m\u001b[0;34m=\u001b[0m \u001b[0mX\u001b[0m\u001b[0;34m.\u001b[0m\u001b[0msample\u001b[0m\u001b[0;34m(\u001b[0m\u001b[0mn\u001b[0m\u001b[0;34m=\u001b[0m \u001b[0msmpSize\u001b[0m\u001b[0;34m)\u001b[0m\u001b[0;34m\u001b[0m\u001b[0;34m\u001b[0m\u001b[0m\n\u001b[0m\u001b[1;32m      8\u001b[0m \u001b[0msmpX\u001b[0m\u001b[0;34m.\u001b[0m\u001b[0mround\u001b[0m\u001b[0;34m(\u001b[0m\u001b[0;36m1\u001b[0m\u001b[0;34m)\u001b[0m\u001b[0;34m\u001b[0m\u001b[0;34m\u001b[0m\u001b[0m\n\u001b[1;32m      9\u001b[0m \u001b[0maDF\u001b[0m\u001b[0;34m=\u001b[0m \u001b[0mpd\u001b[0m\u001b[0;34m.\u001b[0m\u001b[0mDataFrame\u001b[0m\u001b[0;34m(\u001b[0m\u001b[0msmpX\u001b[0m\u001b[0;34m,\u001b[0m\u001b[0mcolumns\u001b[0m\u001b[0;34m=\u001b[0m\u001b[0;34m[\u001b[0m\u001b[0;34m'身高(cm)'\u001b[0m\u001b[0;34m]\u001b[0m\u001b[0;34m)\u001b[0m\u001b[0;34m\u001b[0m\u001b[0;34m\u001b[0m\u001b[0m\n",
            "\u001b[0;31mAttributeError\u001b[0m: 'numpy.ndarray' object has no attribute 'sample'"
          ]
        }
      ]
    },
    {
      "cell_type": "code",
      "metadata": {
        "colab": {
          "base_uri": "https://localhost:8080/",
          "height": 78
        },
        "id": "n1lPOMD7LWGj",
        "outputId": "f209094f-17e8-498f-8edc-1527168f6d1e"
      },
      "source": [
        "aDF.iloc[10:].T.round(1)"
      ],
      "execution_count": null,
      "outputs": [
        {
          "output_type": "execute_result",
          "data": {
            "text/html": [
              "<div>\n",
              "<style scoped>\n",
              "    .dataframe tbody tr th:only-of-type {\n",
              "        vertical-align: middle;\n",
              "    }\n",
              "\n",
              "    .dataframe tbody tr th {\n",
              "        vertical-align: top;\n",
              "    }\n",
              "\n",
              "    .dataframe thead th {\n",
              "        text-align: right;\n",
              "    }\n",
              "</style>\n",
              "<table border=\"1\" class=\"dataframe\">\n",
              "  <thead>\n",
              "    <tr style=\"text-align: right;\">\n",
              "      <th>學號</th>\n",
              "    </tr>\n",
              "  </thead>\n",
              "  <tbody>\n",
              "    <tr>\n",
              "      <th>身高(cm)</th>\n",
              "    </tr>\n",
              "  </tbody>\n",
              "</table>\n",
              "</div>"
            ],
            "text/plain": [
              "Empty DataFrame\n",
              "Columns: []\n",
              "Index: [身高(cm)]"
            ]
          },
          "metadata": {
            "tags": []
          },
          "execution_count": 86
        }
      ]
    },
    {
      "cell_type": "markdown",
      "metadata": {
        "id": "tU4Bnhvs3Yic"
      },
      "source": [
        "19.\t以20人資料重新估算μ的95%信心區間 $(μ_{201}, μ_{202})$=? \n",
        "\n",
        "20.\t以20人的資料估算出來的信心區間 $(μ_{201}, μ_{202})$ 比10人的資料所估算的信心區間 $(μ_1, μ_2)$ 何者寬度較小？(請寫出各自的信心區間寬度) \n"
      ]
    },
    {
      "cell_type": "code",
      "metadata": {
        "id": "Gb8S7znP2Dv4",
        "outputId": "ae0c948b-b5dc-4689-dfbd-9f3cf85aa635"
      },
      "source": [
        "#(19)\n",
        "X= np.array([147.6,    185.9,    154.0,    147.2,    168.6,    146.8,    162.6,    164.1,    152.2,    171.8, 151.4, 152.0, 177.1, 155.1, 159.8, 188.0, 163.7, 178.6, 144.0, 161.8])\n",
        "xBar= X.mean()\n",
        "s2 = X.var(ddof=1)\n",
        "s = s2**.5\n",
        "n = X.size\n",
        "μ202=xBar+1.96*(s/(n**.5))\n",
        "μ201=xBar-1.96*(s/(n**.5))\n",
        "(μ201,μ202)\n"
      ],
      "execution_count": null,
      "outputs": [
        {
          "output_type": "execute_result",
          "data": {
            "text/plain": [
              "(155.83784914311923, 167.39215085688073)"
            ]
          },
          "metadata": {
            "tags": []
          },
          "execution_count": 87
        }
      ]
    },
    {
      "cell_type": "code",
      "metadata": {
        "id": "weKcxxMg2D0A",
        "outputId": "625568c9-47de-4200-acba-7963733b6bff"
      },
      "source": [
        "#(20)\n",
        "print(μ202-μ201)\n",
        "print(μ2-μ1)"
      ],
      "execution_count": null,
      "outputs": [
        {
          "output_type": "stream",
          "text": [
            "11.554301713761504\n",
            "15.983027878346434\n"
          ],
          "name": "stdout"
        }
      ]
    },
    {
      "cell_type": "markdown",
      "metadata": {
        "id": "pREq-xuRDj3Q"
      },
      "source": [
        "20人的資料較小"
      ]
    },
    {
      "cell_type": "code",
      "metadata": {
        "id": "Pm908o70yymn"
      },
      "source": [
        "# ----------------- 考題到此為止 ----------------------"
      ],
      "execution_count": null,
      "outputs": []
    }
  ]
}