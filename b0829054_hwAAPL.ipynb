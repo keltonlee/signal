{
  "nbformat": 4,
  "nbformat_minor": 0,
  "metadata": {
    "kernelspec": {
      "display_name": "Python 3",
      "language": "python",
      "name": "python3"
    },
    "language_info": {
      "codemirror_mode": {
        "name": "ipython",
        "version": 3
      },
      "file_extension": ".py",
      "mimetype": "text/x-python",
      "name": "python",
      "nbconvert_exporter": "python",
      "pygments_lexer": "ipython3",
      "version": "3.8.5"
    },
    "colab": {
      "name": "b0829054_hwAAPL.ipynb",
      "provenance": [],
      "include_colab_link": true
    }
  },
  "cells": [
    {
      "cell_type": "markdown",
      "metadata": {
        "id": "view-in-github",
        "colab_type": "text"
      },
      "source": [
        "<a href=\"https://colab.research.google.com/github/keltonlee/signal/blob/master/b0829054_hwAAPL.ipynb\" target=\"_parent\"><img src=\"https://colab.research.google.com/assets/colab-badge.svg\" alt=\"Open In Colab\"/></a>"
      ]
    },
    {
      "cell_type": "markdown",
      "metadata": {
        "id": "_KtkY1fMsdjU"
      },
      "source": [
        "假設從 2010.01.01 開始，你每個月持續有 USD$1000 資金，"
      ]
    },
    {
      "cell_type": "markdown",
      "metadata": {
        "id": "ybqw_AmdsdjV"
      },
      "source": [
        "(1) 你都不管它，只放在銀行，到了 2020.01.01 你的財產=?"
      ]
    },
    {
      "cell_type": "code",
      "metadata": {
        "id": "gQKdlKRDsdjW",
        "outputId": "2f3521ad-488a-4787-d2f7-21c6c1a5dd74"
      },
      "source": [
        "#1000*12月＊10年\n",
        "total_cost = 1000*12*10\n",
        "total_cost"
      ],
      "execution_count": null,
      "outputs": [
        {
          "output_type": "execute_result",
          "data": {
            "text/plain": [
              "120000"
            ]
          },
          "metadata": {
            "tags": []
          },
          "execution_count": 3
        }
      ]
    },
    {
      "cell_type": "markdown",
      "metadata": {
        "id": "3rHX7IpAsdjX"
      },
      "source": [
        "(2) 你固定選擇 Apple (AAPL) 公司作為買股票的對象，到了 2020.01.01 你的財產 =?"
      ]
    },
    {
      "cell_type": "code",
      "metadata": {
        "id": "yLSUKFBKsdjY",
        "outputId": "745dc08a-e493-497e-c4ff-ad2e1dd474fd"
      },
      "source": [
        "import requests\n",
        "import json\n",
        "import numpy as np\n",
        "import pandas as pd\n",
        "\n",
        "ticket = \"AAPL\"\n",
        "interval = \"mo\"\n",
        "APIurl = \"https://query1.finance.yahoo.com/v8/finance/chart/\"+ticket+\"?period1=1262304000&period2=1577836800&interval=1\"+interval+\"&events=history&=hP2rOschxO0\"\n",
        "response = requests.get(APIurl)  #取出資料json檔\n",
        "data = json.loads(response.text)  #讀取文字檔呈現\n",
        "table = pd.DataFrame(data['chart']['result'][0]['indicators']['quote'][0], index=pd.to_datetime(np.array(data['chart']['result'][0]['timestamp'], dtype='int64')*1000*1000*1000))\n",
        "table"
      ],
      "execution_count": null,
      "outputs": [
        {
          "output_type": "execute_result",
          "data": {
            "text/html": [
              "<div>\n",
              "<style scoped>\n",
              "    .dataframe tbody tr th:only-of-type {\n",
              "        vertical-align: middle;\n",
              "    }\n",
              "\n",
              "    .dataframe tbody tr th {\n",
              "        vertical-align: top;\n",
              "    }\n",
              "\n",
              "    .dataframe thead th {\n",
              "        text-align: right;\n",
              "    }\n",
              "</style>\n",
              "<table border=\"1\" class=\"dataframe\">\n",
              "  <thead>\n",
              "    <tr style=\"text-align: right;\">\n",
              "      <th></th>\n",
              "      <th>close</th>\n",
              "      <th>high</th>\n",
              "      <th>volume</th>\n",
              "      <th>open</th>\n",
              "      <th>low</th>\n",
              "    </tr>\n",
              "  </thead>\n",
              "  <tbody>\n",
              "    <tr>\n",
              "      <th>2010-01-01 05:00:00</th>\n",
              "      <td>6.859286</td>\n",
              "      <td>7.699643</td>\n",
              "      <td>15168994400</td>\n",
              "      <td>7.622500</td>\n",
              "      <td>6.794643</td>\n",
              "    </tr>\n",
              "    <tr>\n",
              "      <th>2010-02-01 05:00:00</th>\n",
              "      <td>7.307857</td>\n",
              "      <td>7.327500</td>\n",
              "      <td>10776080000</td>\n",
              "      <td>6.870357</td>\n",
              "      <td>6.816071</td>\n",
              "    </tr>\n",
              "    <tr>\n",
              "      <th>2010-03-01 05:00:00</th>\n",
              "      <td>8.392857</td>\n",
              "      <td>8.481429</td>\n",
              "      <td>12154172800</td>\n",
              "      <td>7.348214</td>\n",
              "      <td>7.337500</td>\n",
              "    </tr>\n",
              "    <tr>\n",
              "      <th>2010-04-01 04:00:00</th>\n",
              "      <td>9.324643</td>\n",
              "      <td>9.730714</td>\n",
              "      <td>12367129600</td>\n",
              "      <td>8.478929</td>\n",
              "      <td>8.312500</td>\n",
              "    </tr>\n",
              "    <tr>\n",
              "      <th>2010-05-01 04:00:00</th>\n",
              "      <td>9.174286</td>\n",
              "      <td>9.567143</td>\n",
              "      <td>18082654800</td>\n",
              "      <td>9.422857</td>\n",
              "      <td>7.116071</td>\n",
              "    </tr>\n",
              "    <tr>\n",
              "      <th>...</th>\n",
              "      <td>...</td>\n",
              "      <td>...</td>\n",
              "      <td>...</td>\n",
              "      <td>...</td>\n",
              "      <td>...</td>\n",
              "    </tr>\n",
              "    <tr>\n",
              "      <th>2019-08-01 04:00:00</th>\n",
              "      <td>52.185001</td>\n",
              "      <td>54.507500</td>\n",
              "      <td>2724326400</td>\n",
              "      <td>53.474998</td>\n",
              "      <td>48.145000</td>\n",
              "    </tr>\n",
              "    <tr>\n",
              "      <th>2019-09-01 04:00:00</th>\n",
              "      <td>55.992500</td>\n",
              "      <td>56.605000</td>\n",
              "      <td>2170268400</td>\n",
              "      <td>51.607498</td>\n",
              "      <td>51.055000</td>\n",
              "    </tr>\n",
              "    <tr>\n",
              "      <th>2019-10-01 04:00:00</th>\n",
              "      <td>62.189999</td>\n",
              "      <td>62.437500</td>\n",
              "      <td>2433210800</td>\n",
              "      <td>56.267502</td>\n",
              "      <td>53.782501</td>\n",
              "    </tr>\n",
              "    <tr>\n",
              "      <th>2019-11-01 04:00:00</th>\n",
              "      <td>66.812500</td>\n",
              "      <td>67.000000</td>\n",
              "      <td>1793326000</td>\n",
              "      <td>62.384998</td>\n",
              "      <td>62.290001</td>\n",
              "    </tr>\n",
              "    <tr>\n",
              "      <th>2019-12-01 05:00:00</th>\n",
              "      <td>73.412498</td>\n",
              "      <td>73.492500</td>\n",
              "      <td>2388794800</td>\n",
              "      <td>66.817497</td>\n",
              "      <td>64.072502</td>\n",
              "    </tr>\n",
              "  </tbody>\n",
              "</table>\n",
              "<p>120 rows × 5 columns</p>\n",
              "</div>"
            ],
            "text/plain": [
              "                         close       high       volume       open        low\n",
              "2010-01-01 05:00:00   6.859286   7.699643  15168994400   7.622500   6.794643\n",
              "2010-02-01 05:00:00   7.307857   7.327500  10776080000   6.870357   6.816071\n",
              "2010-03-01 05:00:00   8.392857   8.481429  12154172800   7.348214   7.337500\n",
              "2010-04-01 04:00:00   9.324643   9.730714  12367129600   8.478929   8.312500\n",
              "2010-05-01 04:00:00   9.174286   9.567143  18082654800   9.422857   7.116071\n",
              "...                        ...        ...          ...        ...        ...\n",
              "2019-08-01 04:00:00  52.185001  54.507500   2724326400  53.474998  48.145000\n",
              "2019-09-01 04:00:00  55.992500  56.605000   2170268400  51.607498  51.055000\n",
              "2019-10-01 04:00:00  62.189999  62.437500   2433210800  56.267502  53.782501\n",
              "2019-11-01 04:00:00  66.812500  67.000000   1793326000  62.384998  62.290001\n",
              "2019-12-01 05:00:00  73.412498  73.492500   2388794800  66.817497  64.072502\n",
              "\n",
              "[120 rows x 5 columns]"
            ]
          },
          "metadata": {
            "tags": []
          },
          "execution_count": 4
        }
      ]
    },
    {
      "cell_type": "code",
      "metadata": {
        "id": "EcTWpzU4sdju",
        "outputId": "9f744458-e0a1-4de0-fe3e-11949c47c07d"
      },
      "source": [
        "total = 0  #持有的股，從0計算\n",
        "for i in table.close:\n",
        "    temp = 1000 / i  #每天可買幾股\n",
        "    total += temp\n",
        "    \n",
        "last_price = table.close[-1] #最後收盤價\n",
        "final_earn = last_price * total - total_cost\n",
        "final_earn"
      ],
      "execution_count": null,
      "outputs": [
        {
          "output_type": "execute_result",
          "data": {
            "text/plain": [
              "300845.0280793166"
            ]
          },
          "metadata": {
            "tags": []
          },
          "execution_count": 6
        }
      ]
    },
    {
      "cell_type": "code",
      "metadata": {
        "id": "E5-HbuT2sdjv"
      },
      "source": [
        ""
      ],
      "execution_count": null,
      "outputs": []
    }
  ]
}