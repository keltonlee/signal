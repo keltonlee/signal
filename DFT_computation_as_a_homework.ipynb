{
  "nbformat": 4,
  "nbformat_minor": 0,
  "metadata": {
    "kernelspec": {
      "display_name": "Python 3",
      "language": "python",
      "name": "python3"
    },
    "language_info": {
      "codemirror_mode": {
        "name": "ipython",
        "version": 3
      },
      "file_extension": ".py",
      "mimetype": "text/x-python",
      "name": "python",
      "nbconvert_exporter": "python",
      "pygments_lexer": "ipython3",
      "version": "3.8.5"
    },
    "latex_envs": {
      "LaTeX_envs_menu_present": true,
      "autoclose": false,
      "autocomplete": true,
      "bibliofile": "biblio.bib",
      "cite_by": "apalike",
      "current_citInitial": 1,
      "eqLabelWithNumbers": true,
      "eqNumInitial": 1,
      "hotkeys": {
        "equation": "Ctrl-E",
        "itemize": "Ctrl-I"
      },
      "labels_anchors": false,
      "latex_user_defs": false,
      "report_style_numbering": false,
      "user_envs_cfg": false
    },
    "nbTranslate": {
      "displayLangs": [
        "zh-TW",
        "en"
      ],
      "hotkey": "alt-t",
      "langInMainMenu": true,
      "sourceLang": "en",
      "targetLang": "zh-TW",
      "useGoogleTranslate": true
    },
    "toc": {
      "base_numbering": 1,
      "nav_menu": {},
      "number_sections": true,
      "sideBar": true,
      "skip_h1_title": false,
      "title_cell": "Table of Contents",
      "title_sidebar": "Contents",
      "toc_cell": false,
      "toc_position": {},
      "toc_section_display": true,
      "toc_window_display": false
    },
    "varInspector": {
      "cols": {
        "lenName": 16,
        "lenType": 16,
        "lenVar": 40
      },
      "kernels_config": {
        "python": {
          "delete_cmd_postfix": "",
          "delete_cmd_prefix": "del ",
          "library": "var_list.py",
          "varRefreshCmd": "print(var_dic_list())"
        },
        "r": {
          "delete_cmd_postfix": ") ",
          "delete_cmd_prefix": "rm(",
          "library": "var_list.r",
          "varRefreshCmd": "cat(var_dic_list()) "
        }
      },
      "types_to_exclude": [
        "module",
        "function",
        "builtin_function_or_method",
        "instance",
        "_Feature"
      ],
      "window_display": false
    },
    "colab": {
      "name": "DFT_computation_as_a_homework.ipynb",
      "provenance": [],
      "include_colab_link": true
    }
  },
  "cells": [
    {
      "cell_type": "markdown",
      "metadata": {
        "id": "view-in-github",
        "colab_type": "text"
      },
      "source": [
        "<a href=\"https://colab.research.google.com/github/keltonlee/signal/blob/master/DFT_computation_as_a_homework.ipynb\" target=\"_parent\"><img src=\"https://colab.research.google.com/assets/colab-badge.svg\" alt=\"Open In Colab\"/></a>"
      ]
    },
    {
      "cell_type": "code",
      "metadata": {
        "id": "2i3JNsZHXPpy"
      },
      "source": [
        "import numpy as np\n"
      ],
      "execution_count": null,
      "outputs": []
    },
    {
      "cell_type": "code",
      "metadata": {
        "id": "EtHEarlJXPpz"
      },
      "source": [
        "x= [1,\n",
        "    2-1j,\n",
        "    -1j,\n",
        "    -1+2j]"
      ],
      "execution_count": null,
      "outputs": []
    },
    {
      "cell_type": "code",
      "metadata": {
        "id": "wxVeYyZ7XPp0",
        "outputId": "50f57f80-be37-4b21-ee15-7f2f95fc8f11"
      },
      "source": [
        "x= np.array(x)\n",
        "x"
      ],
      "execution_count": null,
      "outputs": [
        {
          "output_type": "execute_result",
          "data": {
            "text/plain": [
              "array([ 1.+0.j,  2.-1.j, -0.-1.j, -1.+2.j])"
            ]
          },
          "metadata": {
            "tags": []
          },
          "execution_count": 58
        }
      ]
    },
    {
      "cell_type": "code",
      "metadata": {
        "id": "Lf_9qV0cXPp1"
      },
      "source": [
        "# [x0,x1,x2,x3] dot []"
      ],
      "execution_count": null,
      "outputs": []
    },
    {
      "cell_type": "code",
      "metadata": {
        "id": "25UNjVMWXPp2",
        "outputId": "f2f65064-caf8-4022-f716-b62d08e123ab"
      },
      "source": [
        "x.size"
      ],
      "execution_count": null,
      "outputs": [
        {
          "output_type": "execute_result",
          "data": {
            "text/plain": [
              "4"
            ]
          },
          "metadata": {
            "tags": []
          },
          "execution_count": 60
        }
      ]
    },
    {
      "cell_type": "code",
      "metadata": {
        "id": "n9Ba6uVsXPp2"
      },
      "source": [
        "N= x.size\n",
        "π= np.pi"
      ],
      "execution_count": null,
      "outputs": []
    },
    {
      "cell_type": "code",
      "metadata": {
        "id": "-VGsvYShXPp3",
        "outputId": "127f1a2c-b36d-49ba-9162-701462916bc4"
      },
      "source": [
        "# k = 0,1,2,3,....,N-1\n",
        "#k=1\n",
        "#n=0,1,2,3,....,N-1\n",
        "\n",
        "# np.exp(-1j*2*π/N *k *n)\n",
        "\n",
        "\n",
        "n= np.arange(N)\n",
        "k= np.arange(N)\n",
        "n, k"
      ],
      "execution_count": null,
      "outputs": [
        {
          "output_type": "execute_result",
          "data": {
            "text/plain": [
              "(array([0, 1, 2, 3]), array([0, 1, 2, 3]))"
            ]
          },
          "metadata": {
            "tags": []
          },
          "execution_count": 62
        }
      ]
    },
    {
      "cell_type": "code",
      "metadata": {
        "id": "iD8DjjPSXPp3"
      },
      "source": [
        "#\n",
        "# DFT computation as a homework\n",
        "#\n",
        "\n",
        "x= [1,\n",
        "    2-1j,\n",
        "    -1j,\n",
        "    -1+2j]\n",
        "# X= ?\n",
        "\n",
        "x= np.array(x)\n",
        "N= x.size\n",
        "π= np.pi"
      ],
      "execution_count": null,
      "outputs": []
    },
    {
      "cell_type": "code",
      "metadata": {
        "id": "AEuAh3ZGXPp5",
        "outputId": "5734249d-f280-4716-8181-2744467e6a84"
      },
      "source": [
        "# DFT solution ver001\n",
        "aL= []\n",
        "for k in range(N):\n",
        "    s=0\n",
        "    for n in range(N):\n",
        "        s += x[n] * np.exp(-1j*2*π/N *k *n)    \n",
        "    aL += [s]\n",
        "X= np.array(aL)\n",
        "X"
      ],
      "execution_count": null,
      "outputs": [
        {
          "output_type": "execute_result",
          "data": {
            "text/plain": [
              "array([ 2.0000000e+00+0.j, -2.0000000e+00-2.j,  8.8817842e-16-2.j,\n",
              "        4.0000000e+00+4.j])"
            ]
          },
          "metadata": {
            "tags": []
          },
          "execution_count": 64
        }
      ]
    },
    {
      "cell_type": "code",
      "metadata": {
        "id": "sIgu1L_7XPp5"
      },
      "source": [
        "# the answer\n",
        "# array([ 2.0000000e+00+0.j, -2.0000000e+00-2.j,  8.8817842e-16-2.j,\n",
        "#        4.0000000e+00+4.j])\n"
      ],
      "execution_count": null,
      "outputs": []
    },
    {
      "cell_type": "code",
      "metadata": {
        "id": "LRoYswafXPp5",
        "outputId": "faec5a13-1b13-44c1-d68e-0b09caa4241d"
      },
      "source": [
        "# DFT solution ver002\n",
        "\n",
        "n= np.arange(N)\n",
        "\n",
        "aL= []\n",
        "for k in range(N):    \n",
        "    e= np.exp(-1j*2*π/N *k *n)\n",
        "    s= x @ e\n",
        "    aL += [s]\n",
        "X= np.array(aL)\n",
        "X\n",
        "\n"
      ],
      "execution_count": null,
      "outputs": [
        {
          "output_type": "execute_result",
          "data": {
            "text/plain": [
              "array([ 2.00000000e+00+0.j, -2.00000000e+00-2.j,  8.57252759e-16-2.j,\n",
              "        4.00000000e+00+4.j])"
            ]
          },
          "metadata": {
            "tags": []
          },
          "execution_count": 66
        }
      ]
    },
    {
      "cell_type": "code",
      "metadata": {
        "id": "FqaDM7QRXPp6",
        "outputId": "4c09a1ef-c497-4c39-816f-ca12fbf3438d"
      },
      "source": [
        "# DFT solution ver003 \n",
        "# 把它改成純矩陣運算。\n",
        "# 參考 ... \n",
        "# https://greenteapress.com/thinkdsp/html/thinkdsp008.html\n",
        "\n",
        "import numpy as np\n",
        "\n",
        "π= np.pi\n",
        "\n",
        "PI2= 2*π\n",
        "\n",
        "def synthesis_matrix(N):\n",
        "    ts = np.arange(N) / N\n",
        "    fs = np.arange(N)\n",
        "    args = np.outer(ts, fs)\n",
        "    M = np.exp(1j * PI2 * args)\n",
        "    return M\n",
        "\n",
        "def dft(ys):\n",
        "    N = len(ys)\n",
        "    M = synthesis_matrix(N)\n",
        "    amps = M.conj().transpose().dot(ys)\n",
        "    return amps\n",
        "\n",
        "X= dft(x)\n",
        "X"
      ],
      "execution_count": null,
      "outputs": [
        {
          "output_type": "execute_result",
          "data": {
            "text/plain": [
              "array([ 2.0000000e+00+0.j, -2.0000000e+00-2.j,  8.8817842e-16-2.j,\n",
              "        4.0000000e+00+4.j])"
            ]
          },
          "metadata": {
            "tags": []
          },
          "execution_count": 67
        }
      ]
    },
    {
      "cell_type": "code",
      "metadata": {
        "id": "S9nssXWXXPp6"
      },
      "source": [
        "# 上面 DFT solution ver003，改自課本的現成程式碼，\n",
        "# 就是我所謂的純用矩陣，避免 緩慢的 for 迴圈。\n",
        "# 請你改寫它成為更精簡的模式。 "
      ],
      "execution_count": null,
      "outputs": []
    },
    {
      "cell_type": "code",
      "metadata": {
        "id": "nbewJ5PZXPp7"
      },
      "source": [
        ""
      ],
      "execution_count": null,
      "outputs": []
    },
    {
      "cell_type": "code",
      "metadata": {
        "id": "5yWNdRrpXPp7"
      },
      "source": [
        ""
      ],
      "execution_count": null,
      "outputs": []
    }
  ]
}